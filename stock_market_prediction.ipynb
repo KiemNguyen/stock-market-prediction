{
 "cells": [
  {
   "cell_type": "markdown",
   "metadata": {},
   "source": [
    "## Stock market prediction"
   ]
  },
  {
   "cell_type": "code",
   "execution_count": 37,
   "metadata": {},
   "outputs": [],
   "source": [
    "import pandas as pd\n",
    "import pandas_datareader as web\n",
    "import talib\n",
    "import matplotlib.pyplot as plt\n",
    "import numpy as np\n",
    "from sklearn.model_selection import train_test_split\n",
    "from sklearn.tree import DecisionTreeClassifier"
   ]
  },
  {
   "cell_type": "code",
   "execution_count": 38,
   "metadata": {},
   "outputs": [],
   "source": [
    "# import SPY 10 years of data to the most recent date in 2021. \n",
    "# SPY is designed to track the S&P 500 stock market index. This fund is the largest ETF in the world. \n",
    "df = web.DataReader('SPY', data_source='yahoo', start='2010-01-01', end='2021-02-19')"
   ]
  },
  {
   "cell_type": "markdown",
   "metadata": {},
   "source": [
    "## Exporatory Data Analysis"
   ]
  },
  {
   "cell_type": "code",
   "execution_count": 39,
   "metadata": {
    "scrolled": true
   },
   "outputs": [
    {
     "data": {
      "text/html": [
       "<div>\n",
       "<style scoped>\n",
       "    .dataframe tbody tr th:only-of-type {\n",
       "        vertical-align: middle;\n",
       "    }\n",
       "\n",
       "    .dataframe tbody tr th {\n",
       "        vertical-align: top;\n",
       "    }\n",
       "\n",
       "    .dataframe thead th {\n",
       "        text-align: right;\n",
       "    }\n",
       "</style>\n",
       "<table border=\"1\" class=\"dataframe\">\n",
       "  <thead>\n",
       "    <tr style=\"text-align: right;\">\n",
       "      <th></th>\n",
       "      <th>High</th>\n",
       "      <th>Low</th>\n",
       "      <th>Open</th>\n",
       "      <th>Close</th>\n",
       "      <th>Volume</th>\n",
       "      <th>Adj Close</th>\n",
       "    </tr>\n",
       "    <tr>\n",
       "      <th>Date</th>\n",
       "      <th></th>\n",
       "      <th></th>\n",
       "      <th></th>\n",
       "      <th></th>\n",
       "      <th></th>\n",
       "      <th></th>\n",
       "    </tr>\n",
       "  </thead>\n",
       "  <tbody>\n",
       "    <tr>\n",
       "      <th>2021-02-12</th>\n",
       "      <td>392.899994</td>\n",
       "      <td>389.769989</td>\n",
       "      <td>389.850006</td>\n",
       "      <td>392.640015</td>\n",
       "      <td>50505700.0</td>\n",
       "      <td>392.640015</td>\n",
       "    </tr>\n",
       "    <tr>\n",
       "      <th>2021-02-16</th>\n",
       "      <td>394.170013</td>\n",
       "      <td>391.529999</td>\n",
       "      <td>393.959991</td>\n",
       "      <td>392.299988</td>\n",
       "      <td>50700800.0</td>\n",
       "      <td>392.299988</td>\n",
       "    </tr>\n",
       "    <tr>\n",
       "      <th>2021-02-17</th>\n",
       "      <td>392.660004</td>\n",
       "      <td>389.329987</td>\n",
       "      <td>390.420013</td>\n",
       "      <td>392.390015</td>\n",
       "      <td>52290600.0</td>\n",
       "      <td>392.390015</td>\n",
       "    </tr>\n",
       "    <tr>\n",
       "      <th>2021-02-18</th>\n",
       "      <td>391.519989</td>\n",
       "      <td>387.739990</td>\n",
       "      <td>389.589996</td>\n",
       "      <td>390.720001</td>\n",
       "      <td>59552200.0</td>\n",
       "      <td>390.720001</td>\n",
       "    </tr>\n",
       "    <tr>\n",
       "      <th>2021-02-19</th>\n",
       "      <td>392.380005</td>\n",
       "      <td>389.549988</td>\n",
       "      <td>392.070007</td>\n",
       "      <td>390.029999</td>\n",
       "      <td>83142800.0</td>\n",
       "      <td>390.029999</td>\n",
       "    </tr>\n",
       "  </tbody>\n",
       "</table>\n",
       "</div>"
      ],
      "text/plain": [
       "                  High         Low        Open       Close      Volume  \\\n",
       "Date                                                                     \n",
       "2021-02-12  392.899994  389.769989  389.850006  392.640015  50505700.0   \n",
       "2021-02-16  394.170013  391.529999  393.959991  392.299988  50700800.0   \n",
       "2021-02-17  392.660004  389.329987  390.420013  392.390015  52290600.0   \n",
       "2021-02-18  391.519989  387.739990  389.589996  390.720001  59552200.0   \n",
       "2021-02-19  392.380005  389.549988  392.070007  390.029999  83142800.0   \n",
       "\n",
       "             Adj Close  \n",
       "Date                    \n",
       "2021-02-12  392.640015  \n",
       "2021-02-16  392.299988  \n",
       "2021-02-17  392.390015  \n",
       "2021-02-18  390.720001  \n",
       "2021-02-19  390.029999  "
      ]
     },
     "execution_count": 39,
     "metadata": {},
     "output_type": "execute_result"
    }
   ],
   "source": [
    "df.tail() # examine the stock data"
   ]
  },
  {
   "cell_type": "code",
   "execution_count": 40,
   "metadata": {},
   "outputs": [
    {
     "data": {
      "text/plain": [
       "(2802, 6)"
      ]
     },
     "execution_count": 40,
     "metadata": {},
     "output_type": "execute_result"
    }
   ],
   "source": [
    "df.shape # get the number of rows and columns"
   ]
  },
  {
   "cell_type": "code",
   "execution_count": 41,
   "metadata": {},
   "outputs": [
    {
     "data": {
      "text/html": [
       "<div>\n",
       "<style scoped>\n",
       "    .dataframe tbody tr th:only-of-type {\n",
       "        vertical-align: middle;\n",
       "    }\n",
       "\n",
       "    .dataframe tbody tr th {\n",
       "        vertical-align: top;\n",
       "    }\n",
       "\n",
       "    .dataframe thead th {\n",
       "        text-align: right;\n",
       "    }\n",
       "</style>\n",
       "<table border=\"1\" class=\"dataframe\">\n",
       "  <thead>\n",
       "    <tr style=\"text-align: right;\">\n",
       "      <th></th>\n",
       "      <th>High</th>\n",
       "      <th>Low</th>\n",
       "      <th>Open</th>\n",
       "      <th>Close</th>\n",
       "      <th>Volume</th>\n",
       "      <th>Adj Close</th>\n",
       "    </tr>\n",
       "  </thead>\n",
       "  <tbody>\n",
       "    <tr>\n",
       "      <th>count</th>\n",
       "      <td>2802.000000</td>\n",
       "      <td>2802.000000</td>\n",
       "      <td>2802.000000</td>\n",
       "      <td>2802.000000</td>\n",
       "      <td>2.802000e+03</td>\n",
       "      <td>2802.000000</td>\n",
       "    </tr>\n",
       "    <tr>\n",
       "      <th>mean</th>\n",
       "      <td>210.783105</td>\n",
       "      <td>208.517659</td>\n",
       "      <td>209.704789</td>\n",
       "      <td>209.734333</td>\n",
       "      <td>1.237649e+08</td>\n",
       "      <td>192.583213</td>\n",
       "    </tr>\n",
       "    <tr>\n",
       "      <th>std</th>\n",
       "      <td>69.809154</td>\n",
       "      <td>69.075299</td>\n",
       "      <td>69.468840</td>\n",
       "      <td>69.454677</td>\n",
       "      <td>7.465493e+07</td>\n",
       "      <td>75.348641</td>\n",
       "    </tr>\n",
       "    <tr>\n",
       "      <th>min</th>\n",
       "      <td>103.419998</td>\n",
       "      <td>101.129997</td>\n",
       "      <td>103.110001</td>\n",
       "      <td>102.199997</td>\n",
       "      <td>2.027000e+07</td>\n",
       "      <td>82.872505</td>\n",
       "    </tr>\n",
       "    <tr>\n",
       "      <th>25%</th>\n",
       "      <td>142.442497</td>\n",
       "      <td>141.355003</td>\n",
       "      <td>141.982498</td>\n",
       "      <td>141.982498</td>\n",
       "      <td>7.239802e+07</td>\n",
       "      <td>120.491968</td>\n",
       "    </tr>\n",
       "    <tr>\n",
       "      <th>50%</th>\n",
       "      <td>206.800003</td>\n",
       "      <td>204.629997</td>\n",
       "      <td>205.614998</td>\n",
       "      <td>205.614998</td>\n",
       "      <td>1.038480e+08</td>\n",
       "      <td>184.856987</td>\n",
       "    </tr>\n",
       "    <tr>\n",
       "      <th>75%</th>\n",
       "      <td>268.587502</td>\n",
       "      <td>265.575005</td>\n",
       "      <td>267.577507</td>\n",
       "      <td>267.287506</td>\n",
       "      <td>1.530642e+08</td>\n",
       "      <td>254.170013</td>\n",
       "    </tr>\n",
       "    <tr>\n",
       "      <th>max</th>\n",
       "      <td>394.170013</td>\n",
       "      <td>391.529999</td>\n",
       "      <td>393.959991</td>\n",
       "      <td>392.640015</td>\n",
       "      <td>7.178287e+08</td>\n",
       "      <td>392.640015</td>\n",
       "    </tr>\n",
       "  </tbody>\n",
       "</table>\n",
       "</div>"
      ],
      "text/plain": [
       "              High          Low         Open        Close        Volume  \\\n",
       "count  2802.000000  2802.000000  2802.000000  2802.000000  2.802000e+03   \n",
       "mean    210.783105   208.517659   209.704789   209.734333  1.237649e+08   \n",
       "std      69.809154    69.075299    69.468840    69.454677  7.465493e+07   \n",
       "min     103.419998   101.129997   103.110001   102.199997  2.027000e+07   \n",
       "25%     142.442497   141.355003   141.982498   141.982498  7.239802e+07   \n",
       "50%     206.800003   204.629997   205.614998   205.614998  1.038480e+08   \n",
       "75%     268.587502   265.575005   267.577507   267.287506  1.530642e+08   \n",
       "max     394.170013   391.529999   393.959991   392.640015  7.178287e+08   \n",
       "\n",
       "         Adj Close  \n",
       "count  2802.000000  \n",
       "mean    192.583213  \n",
       "std      75.348641  \n",
       "min      82.872505  \n",
       "25%     120.491968  \n",
       "50%     184.856987  \n",
       "75%     254.170013  \n",
       "max     392.640015  "
      ]
     },
     "execution_count": 41,
     "metadata": {},
     "output_type": "execute_result"
    }
   ],
   "source": [
    "df.describe() # generate descriptive statistics"
   ]
  },
  {
   "cell_type": "code",
   "execution_count": 42,
   "metadata": {
    "scrolled": false
   },
   "outputs": [
    {
     "data": {
      "text/plain": [
       "[]"
      ]
     },
     "execution_count": 42,
     "metadata": {},
     "output_type": "execute_result"
    },
    {
     "data": {
      "image/png": "[encoded data removed]",
      "text/plain": [
       "<Figure size 432x288 with 1 Axes>"
      ]
     },
     "metadata": {
      "needs_background": "light"
     },
     "output_type": "display_data"
    }
   ],
   "source": [
    "# plot the closing price\n",
    "df['Adj Close'].plot(label='SPY', legend=True)\n",
    "plt.plot()"
   ]
  },
  {
   "cell_type": "code",
   "execution_count": 43,
   "metadata": {},
   "outputs": [
    {
     "data": {
      "image/png": "[encoded data removed]",
      "text/plain": [
       "<Figure size 432x288 with 1 Axes>"
      ]
     },
     "metadata": {
      "needs_background": "light"
     },
     "output_type": "display_data"
    }
   ],
   "source": [
    "# histogram of the daily price change percent of the closing price\n",
    "df['Adj Close'].pct_change().plot.hist(bins=40)\n",
    "plt.xlabel('daily percent change of adjusted close price')\n",
    "plt.show()"
   ]
  },
  {
   "cell_type": "markdown",
   "metadata": {},
   "source": [
    "## Correlation coefficient\n",
    "#### Exam how strong is the correlation of previous price changes vs future price changes. If it's highly correlated, then the stock price is trend following. Otherwise, the stock price is mean-reverting."
   ]
  },
  {
   "cell_type": "code",
   "execution_count": 44,
   "metadata": {
    "scrolled": true
   },
   "outputs": [
    {
     "name": "stdout",
     "output_type": "stream",
     "text": [
      "            Current Close Percent  Future Close Percent\n",
      "Date                                                   \n",
      "2010-01-04                    NaN                   NaN\n",
      "2010-01-05                    NaN                   NaN\n",
      "2010-01-06                    NaN                   NaN\n",
      "2010-01-07                    NaN                   NaN\n",
      "2010-01-08                    NaN                   NaN\n",
      "...                           ...                   ...\n",
      "2021-02-12               0.012716             -0.006647\n",
      "2021-02-16               0.004584             -0.005786\n",
      "2021-02-17               0.005484             -0.006014\n",
      "2021-02-18               0.001641             -0.001766\n",
      "2021-02-19              -0.001740              0.000000\n",
      "\n",
      "[2802 rows x 2 columns]\n"
     ]
    },
    {
     "data": {
      "text/plain": [
       "<matplotlib.collections.PathCollection at 0x11b805070>"
      ]
     },
     "execution_count": 44,
     "metadata": {},
     "output_type": "execute_result"
    },
    {
     "data": {
      "image/png": "[encoded data removed]",
      "text/plain": [
       "<Figure size 432x288 with 1 Axes>"
      ]
     },
     "metadata": {
      "needs_background": "light"
     },
     "output_type": "display_data"
    }
   ],
   "source": [
    "trading_period = 5 # define the trading period to calculate the correlation\n",
    "\n",
    "df['Future Close'] = df['Adj Close'].shift(-5) # create a new future price of the next 5 trading days\n",
    "df['Future Close Percent'] = df['Future Close'].pct_change(trading_period) # Future price change percentage\n",
    "df['Current Close Percent'] = df['Adj Close'].pct_change(trading_period) # Current price change percentage\n",
    "\n",
    "corr = df[['Current Close Percent', 'Future Close Percent']]\n",
    "print(corr)\n",
    "\n",
    "# plot the correlation\n",
    "plt.scatter(df['Current Close Percent'], df['Future Close Percent'])"
   ]
  },
  {
   "cell_type": "markdown",
   "metadata": {},
   "source": [
    "#### We can see the future price change is negatively correlated to the previous price change for a 5 days trading period. This tells us that a mean reversion traing would be a good trading strategy."
   ]
  },
  {
   "cell_type": "markdown",
   "metadata": {},
   "source": [
    "## Feature Engineering\n",
    "#### We want to add more data to the machinee learning models to make better prediction. We will add the new features below:\n",
    "#### 1. Adding a simple moving average (SMA) which is one of the most common indicators which is the average of data point."
   ]
  },
  {
   "cell_type": "code",
   "execution_count": 45,
   "metadata": {
    "scrolled": false
   },
   "outputs": [
    {
     "data": {
      "text/plain": [
       "<AxesSubplot:ylabel='Frequency'>"
      ]
     },
     "execution_count": 45,
     "metadata": {},
     "output_type": "execute_result"
    },
    {
     "data": {
      "image/png": "[encoded data removed]",
      "text/plain": [
       "<Figure size 432x288 with 1 Axes>"
      ]
     },
     "metadata": {
      "needs_background": "light"
     },
     "output_type": "display_data"
    }
   ],
   "source": [
    "new_features = []\n",
    "\n",
    "volume_features = ['Volume 1d Change', 'Volume 1d Change SMA']\n",
    "new_features.extend(volume_features)\n",
    "\n",
    "# new feature - volumne change percentage in 1 day\n",
    "df['Volume 1d Change'] = df['Volume'].pct_change(1)\n",
    "\n",
    "# new feature - 8 day moving average of the 1 day percent change in volume\n",
    "df['Volume 1d Change SMA'] = talib.SMA(df['Volume 1d Change'].values, timeperiod=8)\n",
    "\n",
    "df[volume_features].plot(kind='hist', sharex=False, bins=50)"
   ]
  },
  {
   "cell_type": "markdown",
   "metadata": {},
   "source": [
    "#### 2. Adding a day of the week feature"
   ]
  },
  {
   "cell_type": "code",
   "execution_count": 46,
   "metadata": {},
   "outputs": [
    {
     "data": {
      "text/html": [
       "<div>\n",
       "<style scoped>\n",
       "    .dataframe tbody tr th:only-of-type {\n",
       "        vertical-align: middle;\n",
       "    }\n",
       "\n",
       "    .dataframe tbody tr th {\n",
       "        vertical-align: top;\n",
       "    }\n",
       "\n",
       "    .dataframe thead th {\n",
       "        text-align: right;\n",
       "    }\n",
       "</style>\n",
       "<table border=\"1\" class=\"dataframe\">\n",
       "  <thead>\n",
       "    <tr style=\"text-align: right;\">\n",
       "      <th></th>\n",
       "      <th>High</th>\n",
       "      <th>Low</th>\n",
       "      <th>Open</th>\n",
       "      <th>Close</th>\n",
       "      <th>Volume</th>\n",
       "      <th>Adj Close</th>\n",
       "      <th>Future Close</th>\n",
       "      <th>Future Close Percent</th>\n",
       "      <th>Current Close Percent</th>\n",
       "      <th>Volume 1d Change</th>\n",
       "      <th>Volume 1d Change SMA</th>\n",
       "      <th>Day of Week_1</th>\n",
       "      <th>Day of Week_2</th>\n",
       "      <th>Day of Week_3</th>\n",
       "      <th>Day of Week_4</th>\n",
       "    </tr>\n",
       "    <tr>\n",
       "      <th>Date</th>\n",
       "      <th></th>\n",
       "      <th></th>\n",
       "      <th></th>\n",
       "      <th></th>\n",
       "      <th></th>\n",
       "      <th></th>\n",
       "      <th></th>\n",
       "      <th></th>\n",
       "      <th></th>\n",
       "      <th></th>\n",
       "      <th></th>\n",
       "      <th></th>\n",
       "      <th></th>\n",
       "      <th></th>\n",
       "      <th></th>\n",
       "    </tr>\n",
       "  </thead>\n",
       "  <tbody>\n",
       "    <tr>\n",
       "      <th>2010-01-14</th>\n",
       "      <td>115.139999</td>\n",
       "      <td>114.419998</td>\n",
       "      <td>114.489998</td>\n",
       "      <td>114.930000</td>\n",
       "      <td>115718800.0</td>\n",
       "      <td>92.373383</td>\n",
       "      <td>87.776047</td>\n",
       "      <td>-0.049769</td>\n",
       "      <td>0.006480</td>\n",
       "      <td>-0.284901</td>\n",
       "      <td>0.019352</td>\n",
       "      <td>0</td>\n",
       "      <td>0</td>\n",
       "      <td>1</td>\n",
       "      <td>0</td>\n",
       "    </tr>\n",
       "    <tr>\n",
       "      <th>2010-01-15</th>\n",
       "      <td>114.839996</td>\n",
       "      <td>113.199997</td>\n",
       "      <td>114.730003</td>\n",
       "      <td>113.639999</td>\n",
       "      <td>212283100.0</td>\n",
       "      <td>91.336594</td>\n",
       "      <td>88.226112</td>\n",
       "      <td>-0.034055</td>\n",
       "      <td>-0.008117</td>\n",
       "      <td>0.834474</td>\n",
       "      <td>0.131401</td>\n",
       "      <td>0</td>\n",
       "      <td>0</td>\n",
       "      <td>0</td>\n",
       "      <td>1</td>\n",
       "    </tr>\n",
       "    <tr>\n",
       "      <th>2010-01-19</th>\n",
       "      <td>115.129997</td>\n",
       "      <td>113.589996</td>\n",
       "      <td>113.620003</td>\n",
       "      <td>115.059998</td>\n",
       "      <td>139172700.0</td>\n",
       "      <td>92.477890</td>\n",
       "      <td>87.856384</td>\n",
       "      <td>-0.049974</td>\n",
       "      <td>0.002876</td>\n",
       "      <td>-0.344400</td>\n",
       "      <td>0.083316</td>\n",
       "      <td>1</td>\n",
       "      <td>0</td>\n",
       "      <td>0</td>\n",
       "      <td>0</td>\n",
       "    </tr>\n",
       "    <tr>\n",
       "      <th>2010-01-20</th>\n",
       "      <td>114.449997</td>\n",
       "      <td>112.980003</td>\n",
       "      <td>114.279999</td>\n",
       "      <td>113.889999</td>\n",
       "      <td>216490200.0</td>\n",
       "      <td>91.537521</td>\n",
       "      <td>88.274338</td>\n",
       "      <td>-0.035649</td>\n",
       "      <td>0.002024</td>\n",
       "      <td>0.555551</td>\n",
       "      <td>0.136588</td>\n",
       "      <td>0</td>\n",
       "      <td>1</td>\n",
       "      <td>0</td>\n",
       "      <td>0</td>\n",
       "    </tr>\n",
       "    <tr>\n",
       "      <th>2010-01-21</th>\n",
       "      <td>114.269997</td>\n",
       "      <td>111.559998</td>\n",
       "      <td>113.919998</td>\n",
       "      <td>111.699997</td>\n",
       "      <td>344859600.0</td>\n",
       "      <td>89.777344</td>\n",
       "      <td>87.261650</td>\n",
       "      <td>-0.028021</td>\n",
       "      <td>-0.025475</td>\n",
       "      <td>0.592957</td>\n",
       "      <td>0.215178</td>\n",
       "      <td>0</td>\n",
       "      <td>0</td>\n",
       "      <td>1</td>\n",
       "      <td>0</td>\n",
       "    </tr>\n",
       "  </tbody>\n",
       "</table>\n",
       "</div>"
      ],
      "text/plain": [
       "                  High         Low        Open       Close       Volume  \\\n",
       "Date                                                                      \n",
       "2010-01-14  115.139999  114.419998  114.489998  114.930000  115718800.0   \n",
       "2010-01-15  114.839996  113.199997  114.730003  113.639999  212283100.0   \n",
       "2010-01-19  115.129997  113.589996  113.620003  115.059998  139172700.0   \n",
       "2010-01-20  114.449997  112.980003  114.279999  113.889999  216490200.0   \n",
       "2010-01-21  114.269997  111.559998  113.919998  111.699997  344859600.0   \n",
       "\n",
       "            Adj Close  Future Close  Future Close Percent  \\\n",
       "Date                                                        \n",
       "2010-01-14  92.373383     87.776047             -0.049769   \n",
       "2010-01-15  91.336594     88.226112             -0.034055   \n",
       "2010-01-19  92.477890     87.856384             -0.049974   \n",
       "2010-01-20  91.537521     88.274338             -0.035649   \n",
       "2010-01-21  89.777344     87.261650             -0.028021   \n",
       "\n",
       "            Current Close Percent  Volume 1d Change  Volume 1d Change SMA  \\\n",
       "Date                                                                        \n",
       "2010-01-14               0.006480         -0.284901              0.019352   \n",
       "2010-01-15              -0.008117          0.834474              0.131401   \n",
       "2010-01-19               0.002876         -0.344400              0.083316   \n",
       "2010-01-20               0.002024          0.555551              0.136588   \n",
       "2010-01-21              -0.025475          0.592957              0.215178   \n",
       "\n",
       "            Day of Week_1  Day of Week_2  Day of Week_3  Day of Week_4  \n",
       "Date                                                                    \n",
       "2010-01-14              0              0              1              0  \n",
       "2010-01-15              0              0              0              1  \n",
       "2010-01-19              1              0              0              0  \n",
       "2010-01-20              0              1              0              0  \n",
       "2010-01-21              0              0              1              0  "
      ]
     },
     "execution_count": 46,
     "metadata": {},
     "output_type": "execute_result"
    }
   ],
   "source": [
    "days_of_week = pd.get_dummies(df.index.dayofweek,\n",
    "                             prefix='Day of Week',\n",
    "                             drop_first=True)\n",
    "\n",
    "days_of_week.index = df.index\n",
    "# join the data frame\n",
    "df = pd.concat([df, days_of_week], axis=1)\n",
    "\n",
    "# add days of week to the list of new features\n",
    "new_features.extend(['Day of Week_' + str(n) for n in range(1, 5)] )\n",
    "# drop missing value\n",
    "df.dropna(inplace=True)\n",
    "\n",
    "df.head()\n"
   ]
  },
  {
   "cell_type": "code",
   "execution_count": null,
   "metadata": {},
   "outputs": [],
   "source": []
  },
  {
   "cell_type": "code",
   "execution_count": null,
   "metadata": {},
   "outputs": [],
   "source": []
  }
 ],
 "metadata": {
  "kernelspec": {
   "display_name": "Python 3",
   "language": "python",
   "name": "python3"
  },
  "language_info": {
   "codemirror_mode": {
    "name": "ipython",
    "version": 3
   },
   "file_extension": ".py",
   "mimetype": "text/x-python",
   "name": "python",
   "nbconvert_exporter": "python",
   "pygments_lexer": "ipython3",
   "version": "3.8.5"
  }
 },
 "nbformat": 4,
 "nbformat_minor": 4
}
